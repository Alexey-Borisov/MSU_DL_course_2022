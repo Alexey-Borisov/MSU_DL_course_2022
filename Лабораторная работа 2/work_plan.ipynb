{
 "cells": [
  {
   "cell_type": "markdown",
   "id": "8b5a3b37-e9da-46cd-9476-75f91a85a9a8",
   "metadata": {},
   "source": [
    "# Лабораторная работа №2 по курсу Deep Learning \n",
    "\n",
    "Выполняет: **Борисов Алексей**"
   ]
  },
  {
   "cell_type": "markdown",
   "id": "5cd8168d-7fed-41ce-8d69-60b29dcb35cf",
   "metadata": {},
   "source": [
    "Задача заключается в создании своих контекстных представлений (эмбеддингов) с нуля."
   ]
  },
  {
   "cell_type": "markdown",
   "id": "45a15157-107b-4e21-896a-225bedcd4791",
   "metadata": {},
   "source": [
    "Я пока представляю следующий план работы:\n",
    "    \n",
    "* Реализовать ELMo представления, на основе предобученных неконтекстных представлений из gensim (Word2Vec или GloVe)\n",
    "* Применить к какой-нибудь задаче с Kaggle оба варианта представлений (контекстные и неконтекстные) и сравнить качество. Пока остановил выбор на следующем соревновании по предсказанию токсичности комментариев [Toxic Comment Classification Challenge](https://www.kaggle.com/competitions/jigsaw-toxic-comment-classification-challenge). В качестве модели для соревнования думаю использовать рекуррентную сеть, например BiLSTM.\n",
    "* Поэкспериментировать с размерностью представлений (как я понимаю в случае ELMo можно менять размер скрытого состояния BiLSTM сети).\n",
    "\n",
    "\n",
    "Дополнительно (если хватит времени):\n",
    "\n",
    "* Попробовать другие варианты контекстных представлений, например CoVe и что-то на основе BERT. \n",
    "* Поэкспериментировать с вариантами получения финальных контекстных представлений из BiLSTM (в случае ELMo): с каких слоев брать представления? как агрегировать информацию с разных слоев?"
   ]
  }
 ],
 "metadata": {
  "kernelspec": {
   "display_name": "Python 3 (ipykernel)",
   "language": "python",
   "name": "python3"
  },
  "language_info": {
   "codemirror_mode": {
    "name": "ipython",
    "version": 3
   },
   "file_extension": ".py",
   "mimetype": "text/x-python",
   "name": "python",
   "nbconvert_exporter": "python",
   "pygments_lexer": "ipython3",
   "version": "3.10.4"
  }
 },
 "nbformat": 4,
 "nbformat_minor": 5
}
